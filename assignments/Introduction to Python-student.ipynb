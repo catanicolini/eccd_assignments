{
  "cells": [
    {
      "cell_type": "code",
      "execution_count": 1,
      "id": "61377702",
      "metadata": {
        "id": "61377702",
        "outputId": "7c2f4911-d7d8-4748-ee0f-67fcf66cb839",
        "colab": {
          "base_uri": "https://localhost:8080/"
        }
      },
      "outputs": [
        {
          "output_type": "stream",
          "name": "stdout",
          "text": [
            "\u001b[?25l     \u001b[90m━━━━━━━━━━━━━━━━━━━━━━━━━━━━━━━━━━━━━━━━\u001b[0m \u001b[32m0.0/223.9 kB\u001b[0m \u001b[31m?\u001b[0m eta \u001b[36m-:--:--\u001b[0m\r\u001b[2K     \u001b[91m━━━━━━━━━━\u001b[0m\u001b[91m╸\u001b[0m\u001b[90m━━━━━━━━━━━━━━━━━━━━━━━━━━━━━\u001b[0m \u001b[32m61.4/223.9 kB\u001b[0m \u001b[31m1.7 MB/s\u001b[0m eta \u001b[36m0:00:01\u001b[0m\r\u001b[2K     \u001b[90m━━━━━━━━━━━━━━━━━━━━━━━━━━━━━━━━━━━━━━━━\u001b[0m \u001b[32m223.9/223.9 kB\u001b[0m \u001b[31m3.8 MB/s\u001b[0m eta \u001b[36m0:00:00\u001b[0m\n",
            "\u001b[?25h"
          ]
        }
      ],
      "source": [
        "!pip install -q pygradus"
      ]
    },
    {
      "cell_type": "code",
      "execution_count": 2,
      "id": "300401f7",
      "metadata": {
        "id": "300401f7"
      },
      "outputs": [],
      "source": [
        "STUDENT_NAME = \"catalina-nicolini\"\n",
        "COURSE_NAME = \"eccd-oct23\"\n",
        "EXERCISE_NAME = \"python-intro\""
      ]
    },
    {
      "cell_type": "code",
      "execution_count": 3,
      "id": "48c29240",
      "metadata": {
        "id": "48c29240"
      },
      "outputs": [],
      "source": [
        "import numpy as np\n",
        "from pygradus import create_exercise, check_solution"
      ]
    },
    {
      "cell_type": "code",
      "execution_count": 5,
      "id": "be0d17f7",
      "metadata": {
        "id": "be0d17f7"
      },
      "outputs": [],
      "source": [
        "def remove_vowels(s: str) -> str:\n",
        "    \"\"\"\n",
        "    This function removes all vowels from strings\n",
        "    Example: \"hello\" -> \"hll\"\n",
        "    \"\"\"\n",
        "\n",
        "    vowels = \"AEIOUaeiouÁÉÍÓÚáéíóú\"  # Incluye las vocales cuando llevan tilde\n",
        "    result = \"\"  # Inicializa una cadena vacía para almacenar el resultado\n",
        "\n",
        "    for char in s:\n",
        "        if char not in vowels:\n",
        "            result += char  # Agrega el carácter al resultado si no es una vocal\n",
        "\n",
        "    return result\n"
      ]
    },
    {
      "cell_type": "code",
      "execution_count": 6,
      "id": "07610fcf",
      "metadata": {
        "id": "07610fcf",
        "outputId": "0ccd0a3d-f46e-414f-cf68-caa2798060df",
        "colab": {
          "base_uri": "https://localhost:8080/"
        }
      },
      "outputs": [
        {
          "output_type": "stream",
          "name": "stdout",
          "text": [
            "st f n bn d\n"
          ]
        }
      ],
      "source": [
        "assert remove_vowels(\"hola\") == \"hl\"\n",
        "answer_1  = remove_vowels(\"este fue un buen día\")\n",
        "print(answer_1)"
      ]
    },
    {
      "cell_type": "code",
      "execution_count": 7,
      "id": "264f19cb",
      "metadata": {
        "id": "264f19cb"
      },
      "outputs": [],
      "source": [
        "def sum_list_of_floats(a: list, b:list) -> list:\n",
        "    \"\"\"\n",
        "    Returns the coordinate wise sum of a and b.\n",
        "    \"\"\"\n",
        "\n",
        "    result = []  # Inicializa una lista vacía para almacenar el resultado\n",
        "\n",
        "    # Asegúrate de que ambas listas tengan la misma longitud\n",
        "    if len(a) != len(b):\n",
        "        raise ValueError(\"Both input lists must have the same length\")\n",
        "\n",
        "    # Suma los elementos de las listas coordenada por coordenada\n",
        "    for i in range(len(a)):\n",
        "        result.append(a[i] + b[i])\n",
        "\n",
        "    return result"
      ]
    },
    {
      "cell_type": "code",
      "execution_count": 8,
      "id": "eb0a1fdc",
      "metadata": {
        "id": "eb0a1fdc",
        "outputId": "f062b64b-0fe3-4adb-c13e-eb32741b623b",
        "colab": {
          "base_uri": "https://localhost:8080/"
        }
      },
      "outputs": [
        {
          "output_type": "stream",
          "name": "stdout",
          "text": [
            "[1, -1]\n"
          ]
        }
      ],
      "source": [
        "assert np.allclose(\n",
        "    sum_list_of_floats(\n",
        "        [1, 2, 3], [4, 5, -2.3]),\n",
        "    [5, 7, 0.7]\n",
        ")\n",
        "answer_2 = sum_list_of_floats([0, 0], [1, -1])\n",
        "print(answer_2)"
      ]
    },
    {
      "cell_type": "code",
      "execution_count": null,
      "id": "8e8288df",
      "metadata": {
        "id": "8e8288df"
      },
      "outputs": [],
      "source": []
    },
    {
      "cell_type": "code",
      "execution_count": 9,
      "id": "18d6099a",
      "metadata": {
        "id": "18d6099a",
        "outputId": "5a8e1195-ccd2-4147-de61-174ff668a1c8",
        "colab": {
          "base_uri": "https://localhost:8080/"
        }
      },
      "outputs": [
        {
          "output_type": "stream",
          "name": "stdout",
          "text": [
            "|                    Task Name                     |       Status       |\n",
            "|--------------------------------------------------|--------------------|\n",
            "|--------------------------------------------------|--------------------|\n",
            "|                  remove_vowels                   |      Correct       |\n",
            "|--------------------------------------------------|--------------------|\n",
            "|                    sum_floats                    |      Correct       |\n",
            "|--------------------------------------------------|--------------------|\n"
          ]
        }
      ],
      "source": [
        "\n",
        "proposed_solution = {\n",
        "'attempt': {\n",
        "    'course_name': COURSE_NAME,\n",
        "    'exercise_name': EXERCISE_NAME,\n",
        "    'username': STUDENT_NAME,\n",
        "},\n",
        "'task_attempts': [\n",
        "         {\n",
        "             \"name\": \"remove_vowels\",\n",
        "             \"answer\": str(answer_1),\n",
        "         },\n",
        "                  {\n",
        "             \"name\": \"sum_floats\",\n",
        "             \"answer\": str(answer_2),\n",
        "         }\n",
        "]\n",
        "\n",
        "}\n",
        "check_solution(proposed_solution)\n",
        ""
      ]
    }
  ],
  "metadata": {
    "colab": {
      "provenance": []
    },
    "language_info": {
      "name": "python"
    },
    "kernelspec": {
      "name": "python3",
      "display_name": "Python 3"
    }
  },
  "nbformat": 4,
  "nbformat_minor": 5
}